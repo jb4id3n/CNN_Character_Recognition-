{
 "cells": [
  {
   "cell_type": "code",
   "execution_count": 2,
   "metadata": {},
   "outputs": [],
   "source": [
    "from torchvision import datasets\n",
    "from torchvision.transforms import ToTensor #to take image data and transform into tensor"
   ]
  },
  {
   "cell_type": "code",
   "execution_count": 5,
   "metadata": {},
   "outputs": [
    {
     "name": "stdout",
     "output_type": "stream",
     "text": [
      "Downloading http://yann.lecun.com/exdb/mnist/train-images-idx3-ubyte.gz\n",
      "Failed to download (trying next):\n",
      "HTTP Error 403: Forbidden\n",
      "\n",
      "Downloading https://ossci-datasets.s3.amazonaws.com/mnist/train-images-idx3-ubyte.gz\n",
      "Downloading https://ossci-datasets.s3.amazonaws.com/mnist/train-images-idx3-ubyte.gz to data\\MNIST\\raw\\train-images-idx3-ubyte.gz\n"
     ]
    },
    {
     "name": "stderr",
     "output_type": "stream",
     "text": [
      "100.0%\n"
     ]
    },
    {
     "name": "stdout",
     "output_type": "stream",
     "text": [
      "Extracting data\\MNIST\\raw\\train-images-idx3-ubyte.gz to data\\MNIST\\raw\n",
      "\n",
      "Downloading http://yann.lecun.com/exdb/mnist/train-labels-idx1-ubyte.gz\n",
      "Failed to download (trying next):\n",
      "HTTP Error 403: Forbidden\n",
      "\n",
      "Downloading https://ossci-datasets.s3.amazonaws.com/mnist/train-labels-idx1-ubyte.gz\n",
      "Downloading https://ossci-datasets.s3.amazonaws.com/mnist/train-labels-idx1-ubyte.gz to data\\MNIST\\raw\\train-labels-idx1-ubyte.gz\n"
     ]
    },
    {
     "name": "stderr",
     "output_type": "stream",
     "text": [
      "100.0%\n"
     ]
    },
    {
     "name": "stdout",
     "output_type": "stream",
     "text": [
      "Extracting data\\MNIST\\raw\\train-labels-idx1-ubyte.gz to data\\MNIST\\raw\n",
      "\n",
      "Downloading http://yann.lecun.com/exdb/mnist/t10k-images-idx3-ubyte.gz\n",
      "Failed to download (trying next):\n",
      "HTTP Error 403: Forbidden\n",
      "\n",
      "Downloading https://ossci-datasets.s3.amazonaws.com/mnist/t10k-images-idx3-ubyte.gz\n",
      "Downloading https://ossci-datasets.s3.amazonaws.com/mnist/t10k-images-idx3-ubyte.gz to data\\MNIST\\raw\\t10k-images-idx3-ubyte.gz\n"
     ]
    },
    {
     "name": "stderr",
     "output_type": "stream",
     "text": [
      "100.0%\n"
     ]
    },
    {
     "name": "stdout",
     "output_type": "stream",
     "text": [
      "Extracting data\\MNIST\\raw\\t10k-images-idx3-ubyte.gz to data\\MNIST\\raw\n",
      "\n",
      "Downloading http://yann.lecun.com/exdb/mnist/t10k-labels-idx1-ubyte.gz\n",
      "Failed to download (trying next):\n",
      "HTTP Error 403: Forbidden\n",
      "\n",
      "Downloading https://ossci-datasets.s3.amazonaws.com/mnist/t10k-labels-idx1-ubyte.gz\n",
      "Downloading https://ossci-datasets.s3.amazonaws.com/mnist/t10k-labels-idx1-ubyte.gz to data\\MNIST\\raw\\t10k-labels-idx1-ubyte.gz\n"
     ]
    },
    {
     "name": "stderr",
     "output_type": "stream",
     "text": [
      "100.0%"
     ]
    },
    {
     "name": "stdout",
     "output_type": "stream",
     "text": [
      "Extracting data\\MNIST\\raw\\t10k-labels-idx1-ubyte.gz to data\\MNIST\\raw\n",
      "\n"
     ]
    },
    {
     "name": "stderr",
     "output_type": "stream",
     "text": [
      "\n"
     ]
    }
   ],
   "source": [
    "train_data = datasets.MNIST(\n",
    "    root = 'data',\n",
    "    train = True, #if False, load test set, if True, load train set\n",
    "    transform = ToTensor(), #convert data to tensor\n",
    "    download = True\n",
    ")\n",
    "\n",
    "test_data = datasets.MNIST(\n",
    "    root = 'data',\n",
    "    train = False, #if False, load test set, if True, load train set\n",
    "    transform = ToTensor(), #convert data to tensor\n",
    "    download = True\n",
    ")"
   ]
  },
  {
   "cell_type": "code",
   "execution_count": 9,
   "metadata": {},
   "outputs": [
    {
     "data": {
      "text/plain": [
       "torch.Size([60000, 28, 28])"
      ]
     },
     "execution_count": 9,
     "metadata": {},
     "output_type": "execute_result"
    }
   ],
   "source": [
    "train_data.data.shape"
   ]
  },
  {
   "cell_type": "code",
   "execution_count": 10,
   "metadata": {},
   "outputs": [
    {
     "data": {
      "text/plain": [
       "torch.Size([10000, 28, 28])"
      ]
     },
     "execution_count": 10,
     "metadata": {},
     "output_type": "execute_result"
    }
   ],
   "source": [
    "test_data.data.shape"
   ]
  },
  {
   "cell_type": "code",
   "execution_count": 11,
   "metadata": {},
   "outputs": [
    {
     "data": {
      "text/plain": [
       "torch.Size([60000])"
      ]
     },
     "execution_count": 11,
     "metadata": {},
     "output_type": "execute_result"
    }
   ],
   "source": [
    "train_data.targets.size()"
   ]
  },
  {
   "cell_type": "code",
   "execution_count": 12,
   "metadata": {},
   "outputs": [
    {
     "data": {
      "text/plain": [
       "tensor([5, 0, 4,  ..., 5, 6, 8])"
      ]
     },
     "execution_count": 12,
     "metadata": {},
     "output_type": "execute_result"
    }
   ],
   "source": [
    "train_data.targets"
   ]
  },
  {
   "cell_type": "code",
   "execution_count": 13,
   "metadata": {},
   "outputs": [],
   "source": [
    "from torch.utils.data import DataLoader #to import data into our model\n",
    "\n",
    "loaders = {\n",
    "    'train': DataLoader(train_data,\n",
    "                        batch_size=100,\n",
    "                        shuffle=True,\n",
    "                        num_workers=1), #train dataloader\n",
    "\n",
    "    'test': DataLoader(train_data,\n",
    "                        batch_size=100,\n",
    "                        shuffle=True,\n",
    "                        num_workers=1), #test dataloader\n",
    "\n",
    "\n",
    "}"
   ]
  },
  {
   "cell_type": "code",
   "execution_count": 14,
   "metadata": {},
   "outputs": [
    {
     "data": {
      "text/plain": [
       "{'train': <torch.utils.data.dataloader.DataLoader at 0x254e2c59370>,\n",
       " 'test': <torch.utils.data.dataloader.DataLoader at 0x254e2b3ecc0>}"
      ]
     },
     "execution_count": 14,
     "metadata": {},
     "output_type": "execute_result"
    }
   ],
   "source": [
    "loaders"
   ]
  },
  {
   "cell_type": "code",
   "execution_count": 17,
   "metadata": {},
   "outputs": [],
   "source": [
    "#defining model structure and architecture\n",
    "import torch.nn as nn\n",
    "import torch.nn.functional as F\n",
    "import torch.optim as optim #optimizer\n",
    "\n",
    "class CNN(nn.Module):\n",
    "\n",
    "    def __init__(self):\n",
    "        super(CNN, self).__init__()\n",
    "\n",
    "        self.conv1 = nn.Conv2d(1, 10, kernel_size=5) #2D convulutional layer (channels in, channels out, kernelSize)\n",
    "        self.conv2 = nn.Conv2d(10, 20, kernel_size=5)\n",
    "        self.conv2_drop = nn.Dropout2d() #'regularization' later turns on and off certain neurons during training so not all are used\n",
    "        self.fc1 = nn.Linear(320, 50) #fully connected layer 1 (linear) (equivalent to keras' dense layer)\n",
    "        self.fc2 = nn.Linear(50, 10) #need 10 output neurons for softmax function\n",
    "\n",
    "    #to define activations\n",
    "    def forward(self, x):\n",
    "        x = F.relu(F.max_pool2d(self.conv1(x),2))\n",
    "        x = F.relu(F.max_pool2d(self.conv2_drop(self.conv2(x)), 2))\n",
    "        #flatten data for linear layers\n",
    "        x = x.view(-1, 320)\n",
    "        x = F.relu(self.fc1(x))\n",
    "        x = F.dropout(x, training=self.training)\n",
    "        x = self.fc2(x)\n",
    "\n",
    "        return F.softmax(x) \n"
   ]
  },
  {
   "cell_type": "code",
   "execution_count": 18,
   "metadata": {},
   "outputs": [],
   "source": [
    "import torch\n",
    "\n",
    "device = torch.device('cuda' if torch.cuda.is_available() else 'cpu') #let device be cuda if available on gpu to speed up training\n",
    "\n",
    "model = CNN().to(device)\n",
    "\n",
    "optimizer = optim.Adam(model.parameters(), lr=0.001)\n",
    "\n",
    "loss_fn = nn.CrossEntropyLoss()\n",
    "\n",
    "#training function\n",
    "def train(epoch):\n",
    "    model.train()\n",
    "    for batch_idx, (data, target) in enumerate(loaders['train']):\n",
    "        data, target = data.to(device), target.to(device)\n",
    "        optimizer.zero_grad()\n",
    "        output = model(data) #current model's prediction given the given data\n",
    "        loss = loss_fn(output, target)\n",
    "        loss.backward()#back propagate\n",
    "        optimizer.step()\n",
    "        if batch_idx%20 == 0:\n",
    "            print(f'Train Epoch: {epoch} [{batch_idx * len(data)}/{len(loaders[\"train\"].dataset)} ({100. * batch_idx / len(loaders[\"train\"]):.0f}%)]\\t{loss.item():.6f}')\n",
    "\n",
    "\n",
    "def test():\n",
    "    model.eval()\n",
    "\n",
    "    test_loss = 0\n",
    "    correct = 0\n",
    "\n",
    "    with torch.no_grad():\n",
    "        for data, target in loaders['test']:\n",
    "            data, target = data.to(device), target.to(device)\n",
    "            output = model(data)\n",
    "            test_loss += loss_fn(output, target).item()\n",
    "            pred = output.argmax(dim=1, keepdim=True)\n",
    "            correct += pred.eq(target.view_as(pred)).sum().item()\n",
    "            #for the 100 samples in batch, compare if target and predicted class are the same / sums up trues (ones) to add to correct\n",
    "\n",
    "    test_loss /= len(loaders['test'].dataset)\n",
    "    print(f'\\nTest set: Average loss: {test_loss:.4f}, Accuracy {correct}/{len(loaders[\"test\"].dataset)} ({100. * correct / len(loaders[\"test\"].dataset):.0f}%\\n)')\n",
    "\n",
    "\n"
   ]
  },
  {
   "cell_type": "code",
   "execution_count": 19,
   "metadata": {},
   "outputs": [
    {
     "name": "stderr",
     "output_type": "stream",
     "text": [
      "C:\\Users\\efuah\\AppData\\Local\\Temp\\ipykernel_25816\\3010357687.py:27: UserWarning: Implicit dimension choice for softmax has been deprecated. Change the call to include dim=X as an argument.\n",
      "  return F.softmax(x)\n"
     ]
    },
    {
     "name": "stdout",
     "output_type": "stream",
     "text": [
      "Train Epoch: 1 [0/60000 (0%)]\t2.303239\n",
      "Train Epoch: 1 [2000/60000 (3%)]\t2.288711\n",
      "Train Epoch: 1 [4000/60000 (7%)]\t2.203659\n",
      "Train Epoch: 1 [6000/60000 (10%)]\t2.047188\n",
      "Train Epoch: 1 [8000/60000 (13%)]\t1.847339\n",
      "Train Epoch: 1 [10000/60000 (17%)]\t1.829359\n",
      "Train Epoch: 1 [12000/60000 (20%)]\t1.823947\n",
      "Train Epoch: 1 [14000/60000 (23%)]\t1.730309\n",
      "Train Epoch: 1 [16000/60000 (27%)]\t1.749031\n",
      "Train Epoch: 1 [18000/60000 (30%)]\t1.690274\n",
      "Train Epoch: 1 [20000/60000 (33%)]\t1.749810\n",
      "Train Epoch: 1 [22000/60000 (37%)]\t1.671347\n",
      "Train Epoch: 1 [24000/60000 (40%)]\t1.714818\n",
      "Train Epoch: 1 [26000/60000 (43%)]\t1.730353\n",
      "Train Epoch: 1 [28000/60000 (47%)]\t1.684260\n",
      "Train Epoch: 1 [30000/60000 (50%)]\t1.682369\n",
      "Train Epoch: 1 [32000/60000 (53%)]\t1.623510\n",
      "Train Epoch: 1 [34000/60000 (57%)]\t1.637906\n",
      "Train Epoch: 1 [36000/60000 (60%)]\t1.644234\n",
      "Train Epoch: 1 [38000/60000 (63%)]\t1.688655\n",
      "Train Epoch: 1 [40000/60000 (67%)]\t1.630456\n",
      "Train Epoch: 1 [42000/60000 (70%)]\t1.668584\n",
      "Train Epoch: 1 [44000/60000 (73%)]\t1.665295\n",
      "Train Epoch: 1 [46000/60000 (77%)]\t1.617432\n",
      "Train Epoch: 1 [48000/60000 (80%)]\t1.665887\n",
      "Train Epoch: 1 [50000/60000 (83%)]\t1.612415\n",
      "Train Epoch: 1 [52000/60000 (87%)]\t1.588339\n",
      "Train Epoch: 1 [54000/60000 (90%)]\t1.606288\n",
      "Train Epoch: 1 [56000/60000 (93%)]\t1.577891\n",
      "Train Epoch: 1 [58000/60000 (97%)]\t1.619275\n",
      "\n",
      "Test set: Average loss: 0.0154, Accuracy 55494/60000 (92%\n",
      ")\n",
      "Train Epoch: 2 [0/60000 (0%)]\t1.635697\n",
      "Train Epoch: 2 [2000/60000 (3%)]\t1.584154\n",
      "Train Epoch: 2 [4000/60000 (7%)]\t1.630215\n",
      "Train Epoch: 2 [6000/60000 (10%)]\t1.624875\n",
      "Train Epoch: 2 [8000/60000 (13%)]\t1.570808\n",
      "Train Epoch: 2 [10000/60000 (17%)]\t1.594282\n",
      "Train Epoch: 2 [12000/60000 (20%)]\t1.567050\n",
      "Train Epoch: 2 [14000/60000 (23%)]\t1.624604\n",
      "Train Epoch: 2 [16000/60000 (27%)]\t1.604453\n",
      "Train Epoch: 2 [18000/60000 (30%)]\t1.609492\n",
      "Train Epoch: 2 [20000/60000 (33%)]\t1.588965\n",
      "Train Epoch: 2 [22000/60000 (37%)]\t1.598754\n",
      "Train Epoch: 2 [24000/60000 (40%)]\t1.609934\n",
      "Train Epoch: 2 [26000/60000 (43%)]\t1.555878\n",
      "Train Epoch: 2 [28000/60000 (47%)]\t1.567077\n",
      "Train Epoch: 2 [30000/60000 (50%)]\t1.588689\n",
      "Train Epoch: 2 [32000/60000 (53%)]\t1.578571\n",
      "Train Epoch: 2 [34000/60000 (57%)]\t1.560373\n",
      "Train Epoch: 2 [36000/60000 (60%)]\t1.536520\n",
      "Train Epoch: 2 [38000/60000 (63%)]\t1.559221\n",
      "Train Epoch: 2 [40000/60000 (67%)]\t1.569541\n",
      "Train Epoch: 2 [42000/60000 (70%)]\t1.593453\n",
      "Train Epoch: 2 [44000/60000 (73%)]\t1.565806\n",
      "Train Epoch: 2 [46000/60000 (77%)]\t1.577838\n",
      "Train Epoch: 2 [48000/60000 (80%)]\t1.545967\n",
      "Train Epoch: 2 [50000/60000 (83%)]\t1.590578\n",
      "Train Epoch: 2 [52000/60000 (87%)]\t1.587820\n",
      "Train Epoch: 2 [54000/60000 (90%)]\t1.539745\n",
      "Train Epoch: 2 [56000/60000 (93%)]\t1.560820\n",
      "Train Epoch: 2 [58000/60000 (97%)]\t1.518463\n",
      "\n",
      "Test set: Average loss: 0.0151, Accuracy 56929/60000 (95%\n",
      ")\n",
      "Train Epoch: 3 [0/60000 (0%)]\t1.560363\n",
      "Train Epoch: 3 [2000/60000 (3%)]\t1.573000\n",
      "Train Epoch: 3 [4000/60000 (7%)]\t1.587272\n",
      "Train Epoch: 3 [6000/60000 (10%)]\t1.513695\n",
      "Train Epoch: 3 [8000/60000 (13%)]\t1.575802\n",
      "Train Epoch: 3 [10000/60000 (17%)]\t1.558784\n",
      "Train Epoch: 3 [12000/60000 (20%)]\t1.588416\n",
      "Train Epoch: 3 [14000/60000 (23%)]\t1.570614\n",
      "Train Epoch: 3 [16000/60000 (27%)]\t1.530071\n",
      "Train Epoch: 3 [18000/60000 (30%)]\t1.587858\n",
      "Train Epoch: 3 [20000/60000 (33%)]\t1.516336\n",
      "Train Epoch: 3 [22000/60000 (37%)]\t1.541079\n",
      "Train Epoch: 3 [24000/60000 (40%)]\t1.561150\n",
      "Train Epoch: 3 [26000/60000 (43%)]\t1.584907\n",
      "Train Epoch: 3 [28000/60000 (47%)]\t1.600638\n",
      "Train Epoch: 3 [30000/60000 (50%)]\t1.599351\n",
      "Train Epoch: 3 [32000/60000 (53%)]\t1.555853\n",
      "Train Epoch: 3 [34000/60000 (57%)]\t1.545584\n",
      "Train Epoch: 3 [36000/60000 (60%)]\t1.568846\n",
      "Train Epoch: 3 [38000/60000 (63%)]\t1.585107\n",
      "Train Epoch: 3 [40000/60000 (67%)]\t1.537320\n",
      "Train Epoch: 3 [42000/60000 (70%)]\t1.510712\n",
      "Train Epoch: 3 [44000/60000 (73%)]\t1.570736\n",
      "Train Epoch: 3 [46000/60000 (77%)]\t1.537768\n",
      "Train Epoch: 3 [48000/60000 (80%)]\t1.557920\n",
      "Train Epoch: 3 [50000/60000 (83%)]\t1.525530\n",
      "Train Epoch: 3 [52000/60000 (87%)]\t1.533428\n",
      "Train Epoch: 3 [54000/60000 (90%)]\t1.561894\n",
      "Train Epoch: 3 [56000/60000 (93%)]\t1.580958\n",
      "Train Epoch: 3 [58000/60000 (97%)]\t1.511933\n",
      "\n",
      "Test set: Average loss: 0.0150, Accuracy 57460/60000 (96%\n",
      ")\n",
      "Train Epoch: 4 [0/60000 (0%)]\t1.558977\n",
      "Train Epoch: 4 [2000/60000 (3%)]\t1.549992\n",
      "Train Epoch: 4 [4000/60000 (7%)]\t1.531357\n",
      "Train Epoch: 4 [6000/60000 (10%)]\t1.554585\n",
      "Train Epoch: 4 [8000/60000 (13%)]\t1.530075\n",
      "Train Epoch: 4 [10000/60000 (17%)]\t1.535773\n",
      "Train Epoch: 4 [12000/60000 (20%)]\t1.582853\n",
      "Train Epoch: 4 [14000/60000 (23%)]\t1.552119\n",
      "Train Epoch: 4 [16000/60000 (27%)]\t1.566895\n",
      "Train Epoch: 4 [18000/60000 (30%)]\t1.547772\n",
      "Train Epoch: 4 [20000/60000 (33%)]\t1.527882\n",
      "Train Epoch: 4 [22000/60000 (37%)]\t1.507337\n",
      "Train Epoch: 4 [24000/60000 (40%)]\t1.549695\n",
      "Train Epoch: 4 [26000/60000 (43%)]\t1.579782\n",
      "Train Epoch: 4 [28000/60000 (47%)]\t1.562742\n",
      "Train Epoch: 4 [30000/60000 (50%)]\t1.508501\n",
      "Train Epoch: 4 [32000/60000 (53%)]\t1.536170\n",
      "Train Epoch: 4 [34000/60000 (57%)]\t1.592635\n",
      "Train Epoch: 4 [36000/60000 (60%)]\t1.559233\n",
      "Train Epoch: 4 [38000/60000 (63%)]\t1.530717\n",
      "Train Epoch: 4 [40000/60000 (67%)]\t1.562745\n",
      "Train Epoch: 4 [42000/60000 (70%)]\t1.574503\n",
      "Train Epoch: 4 [44000/60000 (73%)]\t1.564267\n",
      "Train Epoch: 4 [46000/60000 (77%)]\t1.547804\n",
      "Train Epoch: 4 [48000/60000 (80%)]\t1.571574\n",
      "Train Epoch: 4 [50000/60000 (83%)]\t1.579397\n",
      "Train Epoch: 4 [52000/60000 (87%)]\t1.550452\n",
      "Train Epoch: 4 [54000/60000 (90%)]\t1.529770\n",
      "Train Epoch: 4 [56000/60000 (93%)]\t1.554514\n",
      "Train Epoch: 4 [58000/60000 (97%)]\t1.499550\n",
      "\n",
      "Test set: Average loss: 0.0150, Accuracy 57684/60000 (96%\n",
      ")\n",
      "Train Epoch: 5 [0/60000 (0%)]\t1.588091\n",
      "Train Epoch: 5 [2000/60000 (3%)]\t1.497346\n",
      "Train Epoch: 5 [4000/60000 (7%)]\t1.596047\n",
      "Train Epoch: 5 [6000/60000 (10%)]\t1.579672\n",
      "Train Epoch: 5 [8000/60000 (13%)]\t1.580259\n",
      "Train Epoch: 5 [10000/60000 (17%)]\t1.522761\n",
      "Train Epoch: 5 [12000/60000 (20%)]\t1.514595\n",
      "Train Epoch: 5 [14000/60000 (23%)]\t1.514696\n",
      "Train Epoch: 5 [16000/60000 (27%)]\t1.565709\n",
      "Train Epoch: 5 [18000/60000 (30%)]\t1.557417\n",
      "Train Epoch: 5 [20000/60000 (33%)]\t1.504396\n",
      "Train Epoch: 5 [22000/60000 (37%)]\t1.529325\n",
      "Train Epoch: 5 [24000/60000 (40%)]\t1.495365\n",
      "Train Epoch: 5 [26000/60000 (43%)]\t1.546922\n",
      "Train Epoch: 5 [28000/60000 (47%)]\t1.551257\n",
      "Train Epoch: 5 [30000/60000 (50%)]\t1.523061\n",
      "Train Epoch: 5 [32000/60000 (53%)]\t1.546582\n",
      "Train Epoch: 5 [34000/60000 (57%)]\t1.536303\n",
      "Train Epoch: 5 [36000/60000 (60%)]\t1.526368\n",
      "Train Epoch: 5 [38000/60000 (63%)]\t1.506063\n",
      "Train Epoch: 5 [40000/60000 (67%)]\t1.543135\n",
      "Train Epoch: 5 [42000/60000 (70%)]\t1.501325\n",
      "Train Epoch: 5 [44000/60000 (73%)]\t1.547602\n",
      "Train Epoch: 5 [46000/60000 (77%)]\t1.545595\n",
      "Train Epoch: 5 [48000/60000 (80%)]\t1.548899\n",
      "Train Epoch: 5 [50000/60000 (83%)]\t1.519150\n",
      "Train Epoch: 5 [52000/60000 (87%)]\t1.531390\n",
      "Train Epoch: 5 [54000/60000 (90%)]\t1.562225\n",
      "Train Epoch: 5 [56000/60000 (93%)]\t1.555221\n",
      "Train Epoch: 5 [58000/60000 (97%)]\t1.526649\n",
      "\n",
      "Test set: Average loss: 0.0150, Accuracy 57851/60000 (96%\n",
      ")\n",
      "Train Epoch: 6 [0/60000 (0%)]\t1.548938\n",
      "Train Epoch: 6 [2000/60000 (3%)]\t1.511425\n",
      "Train Epoch: 6 [4000/60000 (7%)]\t1.560949\n",
      "Train Epoch: 6 [6000/60000 (10%)]\t1.537790\n",
      "Train Epoch: 6 [8000/60000 (13%)]\t1.544580\n",
      "Train Epoch: 6 [10000/60000 (17%)]\t1.559560\n",
      "Train Epoch: 6 [12000/60000 (20%)]\t1.552627\n",
      "Train Epoch: 6 [14000/60000 (23%)]\t1.522672\n",
      "Train Epoch: 6 [16000/60000 (27%)]\t1.530549\n",
      "Train Epoch: 6 [18000/60000 (30%)]\t1.515127\n",
      "Train Epoch: 6 [20000/60000 (33%)]\t1.543026\n",
      "Train Epoch: 6 [22000/60000 (37%)]\t1.535757\n",
      "Train Epoch: 6 [24000/60000 (40%)]\t1.542139\n",
      "Train Epoch: 6 [26000/60000 (43%)]\t1.522837\n",
      "Train Epoch: 6 [28000/60000 (47%)]\t1.505890\n",
      "Train Epoch: 6 [30000/60000 (50%)]\t1.498862\n",
      "Train Epoch: 6 [32000/60000 (53%)]\t1.566480\n",
      "Train Epoch: 6 [34000/60000 (57%)]\t1.590710\n",
      "Train Epoch: 6 [36000/60000 (60%)]\t1.526662\n",
      "Train Epoch: 6 [38000/60000 (63%)]\t1.551970\n",
      "Train Epoch: 6 [40000/60000 (67%)]\t1.532456\n",
      "Train Epoch: 6 [42000/60000 (70%)]\t1.517089\n",
      "Train Epoch: 6 [44000/60000 (73%)]\t1.519338\n",
      "Train Epoch: 6 [46000/60000 (77%)]\t1.575292\n",
      "Train Epoch: 6 [48000/60000 (80%)]\t1.541931\n",
      "Train Epoch: 6 [50000/60000 (83%)]\t1.519641\n",
      "Train Epoch: 6 [52000/60000 (87%)]\t1.512121\n",
      "Train Epoch: 6 [54000/60000 (90%)]\t1.540057\n",
      "Train Epoch: 6 [56000/60000 (93%)]\t1.555378\n",
      "Train Epoch: 6 [58000/60000 (97%)]\t1.588770\n",
      "\n",
      "Test set: Average loss: 0.0149, Accuracy 58088/60000 (97%\n",
      ")\n",
      "Train Epoch: 7 [0/60000 (0%)]\t1.533823\n",
      "Train Epoch: 7 [2000/60000 (3%)]\t1.509842\n",
      "Train Epoch: 7 [4000/60000 (7%)]\t1.511683\n",
      "Train Epoch: 7 [6000/60000 (10%)]\t1.503937\n",
      "Train Epoch: 7 [8000/60000 (13%)]\t1.527699\n",
      "Train Epoch: 7 [10000/60000 (17%)]\t1.519111\n",
      "Train Epoch: 7 [12000/60000 (20%)]\t1.499561\n",
      "Train Epoch: 7 [14000/60000 (23%)]\t1.519421\n",
      "Train Epoch: 7 [16000/60000 (27%)]\t1.536810\n",
      "Train Epoch: 7 [18000/60000 (30%)]\t1.556036\n",
      "Train Epoch: 7 [20000/60000 (33%)]\t1.569145\n",
      "Train Epoch: 7 [22000/60000 (37%)]\t1.548444\n",
      "Train Epoch: 7 [24000/60000 (40%)]\t1.504124\n",
      "Train Epoch: 7 [26000/60000 (43%)]\t1.587347\n",
      "Train Epoch: 7 [28000/60000 (47%)]\t1.536373\n",
      "Train Epoch: 7 [30000/60000 (50%)]\t1.597451\n",
      "Train Epoch: 7 [32000/60000 (53%)]\t1.514267\n",
      "Train Epoch: 7 [34000/60000 (57%)]\t1.535771\n",
      "Train Epoch: 7 [36000/60000 (60%)]\t1.521818\n",
      "Train Epoch: 7 [38000/60000 (63%)]\t1.526044\n",
      "Train Epoch: 7 [40000/60000 (67%)]\t1.524407\n",
      "Train Epoch: 7 [42000/60000 (70%)]\t1.506133\n",
      "Train Epoch: 7 [44000/60000 (73%)]\t1.537102\n",
      "Train Epoch: 7 [46000/60000 (77%)]\t1.504685\n",
      "Train Epoch: 7 [48000/60000 (80%)]\t1.543717\n",
      "Train Epoch: 7 [50000/60000 (83%)]\t1.556165\n",
      "Train Epoch: 7 [52000/60000 (87%)]\t1.506150\n",
      "Train Epoch: 7 [54000/60000 (90%)]\t1.550762\n",
      "Train Epoch: 7 [56000/60000 (93%)]\t1.500900\n",
      "Train Epoch: 7 [58000/60000 (97%)]\t1.490759\n",
      "\n",
      "Test set: Average loss: 0.0149, Accuracy 58210/60000 (97%\n",
      ")\n",
      "Train Epoch: 8 [0/60000 (0%)]\t1.579436\n",
      "Train Epoch: 8 [2000/60000 (3%)]\t1.507545\n",
      "Train Epoch: 8 [4000/60000 (7%)]\t1.491559\n",
      "Train Epoch: 8 [6000/60000 (10%)]\t1.493689\n",
      "Train Epoch: 8 [8000/60000 (13%)]\t1.538006\n",
      "Train Epoch: 8 [10000/60000 (17%)]\t1.513359\n",
      "Train Epoch: 8 [12000/60000 (20%)]\t1.560783\n",
      "Train Epoch: 8 [14000/60000 (23%)]\t1.511685\n",
      "Train Epoch: 8 [16000/60000 (27%)]\t1.503647\n",
      "Train Epoch: 8 [18000/60000 (30%)]\t1.542845\n",
      "Train Epoch: 8 [20000/60000 (33%)]\t1.495272\n",
      "Train Epoch: 8 [22000/60000 (37%)]\t1.556825\n",
      "Train Epoch: 8 [24000/60000 (40%)]\t1.530488\n",
      "Train Epoch: 8 [26000/60000 (43%)]\t1.548727\n",
      "Train Epoch: 8 [28000/60000 (47%)]\t1.482763\n",
      "Train Epoch: 8 [30000/60000 (50%)]\t1.547729\n",
      "Train Epoch: 8 [32000/60000 (53%)]\t1.516180\n",
      "Train Epoch: 8 [34000/60000 (57%)]\t1.537959\n",
      "Train Epoch: 8 [36000/60000 (60%)]\t1.534848\n",
      "Train Epoch: 8 [38000/60000 (63%)]\t1.539972\n",
      "Train Epoch: 8 [40000/60000 (67%)]\t1.563836\n",
      "Train Epoch: 8 [42000/60000 (70%)]\t1.508919\n",
      "Train Epoch: 8 [44000/60000 (73%)]\t1.542090\n",
      "Train Epoch: 8 [46000/60000 (77%)]\t1.530562\n",
      "Train Epoch: 8 [48000/60000 (80%)]\t1.518268\n",
      "Train Epoch: 8 [50000/60000 (83%)]\t1.540026\n",
      "Train Epoch: 8 [52000/60000 (87%)]\t1.521532\n",
      "Train Epoch: 8 [54000/60000 (90%)]\t1.514677\n",
      "Train Epoch: 8 [56000/60000 (93%)]\t1.520502\n",
      "Train Epoch: 8 [58000/60000 (97%)]\t1.528101\n",
      "\n",
      "Test set: Average loss: 0.0149, Accuracy 58241/60000 (97%\n",
      ")\n",
      "Train Epoch: 9 [0/60000 (0%)]\t1.545727\n",
      "Train Epoch: 9 [2000/60000 (3%)]\t1.522956\n",
      "Train Epoch: 9 [4000/60000 (7%)]\t1.557486\n",
      "Train Epoch: 9 [6000/60000 (10%)]\t1.551066\n",
      "Train Epoch: 9 [8000/60000 (13%)]\t1.478850\n",
      "Train Epoch: 9 [10000/60000 (17%)]\t1.552862\n",
      "Train Epoch: 9 [12000/60000 (20%)]\t1.517702\n",
      "Train Epoch: 9 [14000/60000 (23%)]\t1.516339\n",
      "Train Epoch: 9 [16000/60000 (27%)]\t1.517630\n",
      "Train Epoch: 9 [18000/60000 (30%)]\t1.538247\n",
      "Train Epoch: 9 [20000/60000 (33%)]\t1.542657\n",
      "Train Epoch: 9 [22000/60000 (37%)]\t1.516383\n",
      "Train Epoch: 9 [24000/60000 (40%)]\t1.523968\n",
      "Train Epoch: 9 [26000/60000 (43%)]\t1.500053\n",
      "Train Epoch: 9 [28000/60000 (47%)]\t1.536769\n",
      "Train Epoch: 9 [30000/60000 (50%)]\t1.518388\n",
      "Train Epoch: 9 [32000/60000 (53%)]\t1.500258\n",
      "Train Epoch: 9 [34000/60000 (57%)]\t1.546261\n",
      "Train Epoch: 9 [36000/60000 (60%)]\t1.503222\n",
      "Train Epoch: 9 [38000/60000 (63%)]\t1.557002\n",
      "Train Epoch: 9 [40000/60000 (67%)]\t1.514076\n",
      "Train Epoch: 9 [42000/60000 (70%)]\t1.472131\n",
      "Train Epoch: 9 [44000/60000 (73%)]\t1.528402\n",
      "Train Epoch: 9 [46000/60000 (77%)]\t1.510710\n",
      "Train Epoch: 9 [48000/60000 (80%)]\t1.512196\n",
      "Train Epoch: 9 [50000/60000 (83%)]\t1.500629\n",
      "Train Epoch: 9 [52000/60000 (87%)]\t1.521225\n",
      "Train Epoch: 9 [54000/60000 (90%)]\t1.491710\n",
      "Train Epoch: 9 [56000/60000 (93%)]\t1.516013\n",
      "Train Epoch: 9 [58000/60000 (97%)]\t1.575061\n",
      "\n",
      "Test set: Average loss: 0.0149, Accuracy 58288/60000 (97%\n",
      ")\n",
      "Train Epoch: 10 [0/60000 (0%)]\t1.526289\n",
      "Train Epoch: 10 [2000/60000 (3%)]\t1.519548\n",
      "Train Epoch: 10 [4000/60000 (7%)]\t1.530007\n",
      "Train Epoch: 10 [6000/60000 (10%)]\t1.533257\n",
      "Train Epoch: 10 [8000/60000 (13%)]\t1.511906\n",
      "Train Epoch: 10 [10000/60000 (17%)]\t1.564627\n",
      "Train Epoch: 10 [12000/60000 (20%)]\t1.508238\n",
      "Train Epoch: 10 [14000/60000 (23%)]\t1.535501\n",
      "Train Epoch: 10 [16000/60000 (27%)]\t1.527981\n",
      "Train Epoch: 10 [18000/60000 (30%)]\t1.554822\n",
      "Train Epoch: 10 [20000/60000 (33%)]\t1.501157\n",
      "Train Epoch: 10 [22000/60000 (37%)]\t1.505195\n",
      "Train Epoch: 10 [24000/60000 (40%)]\t1.550482\n",
      "Train Epoch: 10 [26000/60000 (43%)]\t1.504915\n",
      "Train Epoch: 10 [28000/60000 (47%)]\t1.523798\n",
      "Train Epoch: 10 [30000/60000 (50%)]\t1.497161\n",
      "Train Epoch: 10 [32000/60000 (53%)]\t1.529682\n",
      "Train Epoch: 10 [34000/60000 (57%)]\t1.532408\n",
      "Train Epoch: 10 [36000/60000 (60%)]\t1.518377\n",
      "Train Epoch: 10 [38000/60000 (63%)]\t1.535171\n",
      "Train Epoch: 10 [40000/60000 (67%)]\t1.544961\n",
      "Train Epoch: 10 [42000/60000 (70%)]\t1.515796\n",
      "Train Epoch: 10 [44000/60000 (73%)]\t1.514881\n",
      "Train Epoch: 10 [46000/60000 (77%)]\t1.475980\n",
      "Train Epoch: 10 [48000/60000 (80%)]\t1.501516\n",
      "Train Epoch: 10 [50000/60000 (83%)]\t1.532180\n",
      "Train Epoch: 10 [52000/60000 (87%)]\t1.485246\n",
      "Train Epoch: 10 [54000/60000 (90%)]\t1.493941\n",
      "Train Epoch: 10 [56000/60000 (93%)]\t1.499689\n",
      "Train Epoch: 10 [58000/60000 (97%)]\t1.514838\n",
      "\n",
      "Test set: Average loss: 0.0149, Accuracy 58433/60000 (97%\n",
      ")\n"
     ]
    }
   ],
   "source": [
    "#begin training\n",
    "for epoch in range(1, 11):\n",
    "    train(epoch)\n",
    "    test()"
   ]
  },
  {
   "cell_type": "code",
   "execution_count": 21,
   "metadata": {},
   "outputs": [
    {
     "data": {
      "text/plain": [
       "device(type='cpu')"
      ]
     },
     "execution_count": 21,
     "metadata": {},
     "output_type": "execute_result"
    }
   ],
   "source": [
    "device #checking device "
   ]
  },
  {
   "cell_type": "code",
   "execution_count": 22,
   "metadata": {},
   "outputs": [
    {
     "name": "stdout",
     "output_type": "stream",
     "text": [
      "Prediction: 7\n"
     ]
    },
    {
     "name": "stderr",
     "output_type": "stream",
     "text": [
      "C:\\Users\\efuah\\AppData\\Local\\Temp\\ipykernel_25816\\3010357687.py:27: UserWarning: Implicit dimension choice for softmax has been deprecated. Change the call to include dim=X as an argument.\n",
      "  return F.softmax(x)\n"
     ]
    },
    {
     "data": {
      "text/plain": [
       "<function matplotlib.pyplot.show(close=None, block=None)>"
      ]
     },
     "execution_count": 22,
     "metadata": {},
     "output_type": "execute_result"
    },
    {
     "data": {
      "image/png": "[encoded data removed]",
      "text/plain": [
       "<Figure size 640x480 with 1 Axes>"
      ]
     },
     "metadata": {},
     "output_type": "display_data"
    }
   ],
   "source": [
    "#visual evaluation\n",
    "import matplotlib.pyplot as plt\n",
    "\n",
    "model.eval()\n",
    "\n",
    "data, target = test_data[0]\n",
    "\n",
    "data = data.unsqueeze(0).to(device) #added batch dimension (pt-->list)\n",
    "\n",
    "output = model(data)\n",
    "\n",
    "prediction = output.argmax(dim=1, keepdim=True).item()\n",
    "\n",
    "print(f'Prediction: {prediction}')\n",
    "\n",
    "image = data.squeeze(0).squeeze(0).cpu().numpy() #unpack layers\n",
    "\n",
    "plt.imshow(image, cmap='gray')\n",
    "plt.show\n"
   ]
  }
 ],
 "metadata": {
  "kernelspec": {
   "display_name": "Python 3",
   "language": "python",
   "name": "python3"
  },
  "language_info": {
   "codemirror_mode": {
    "name": "ipython",
    "version": 3
   },
   "file_extension": ".py",
   "mimetype": "text/x-python",
   "name": "python",
   "nbconvert_exporter": "python",
   "pygments_lexer": "ipython3",
   "version": "3.12.6"
  }
 },
 "nbformat": 4,
 "nbformat_minor": 2
}
